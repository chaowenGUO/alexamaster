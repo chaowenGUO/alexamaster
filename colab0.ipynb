{
  "nbformat": 4,
  "nbformat_minor": 0,
  "metadata": {
    "colab": {
      "name": "colab.ipynb",
      "provenance": [],
      "authorship_tag": "ABX9TyNaE4znkiFJmb15PCxNxCv5",
      "include_colab_link": true
    },
    "kernelspec": {
      "name": "python3",
      "display_name": "Python 3"
    }
  },
  "cells": [
    {
      "cell_type": "markdown",
      "metadata": {
        "id": "view-in-github",
        "colab_type": "text"
      },
      "source": [
        "<a href=\"https://colab.research.google.com/github/chaowenGUOorg/alexamaster/blob/main/colab0.ipynb\" target=\"_parent\"><img src=\"https://colab.research.google.com/assets/colab-badge.svg\" alt=\"Open In Colab\"/></a>"
      ]
    },
    {
      "cell_type": "code",
      "metadata": {
        "id": "PwsJy3X5oUmS"
      },
      "source": [
        "%%bash\r\n",
        "apt update\r\n",
        "apt install chromium-browser\r\n",
        "pip install playwright\r\n",
        "git clone git://github.com/chaowenguoorg/alexamaster\r\n",
        "python alexamaster/colab.py"
      ],
      "execution_count": null,
      "outputs": []
    }
  ]
}
